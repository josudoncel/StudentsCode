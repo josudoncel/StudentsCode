{
 "cells": [
  {
   "cell_type": "code",
   "execution_count": 1,
   "metadata": {},
   "outputs": [],
   "source": [
    "import random\n",
    "import matplotlib \n",
    "from matplotlib import pyplot as plt \n",
    "import numpy as np\n",
    "import pylab\n",
    "from pylab import *\n",
    "import copy\n",
    "from copy import deepcopy\n",
    "\n",
    "#N PAREKATZE-EREDUA: \"lotu\" funtzioak l_3 ertzean ezartzen dugun atazaren arabera lortzen den\n",
    "#kostu akumulatua zein den bueltatzen du. Horretaz gain, grafiko desberdinak marrazten ditu: alde batetik, \n",
    "#ataza desberdinak ezarriz lortu ditugun kostu akumulatuek izan duten eboluzioa denboran zehar eta bestetik, \n",
    "#amaieran lortu diren kostu akumulatuen batezbestekoak ataza desberdinetarako.\n",
    "\n",
    "#POLITIKA FUNTZIOA\n",
    "def politika(x,t,iritsierak):\n",
    "    # 1go: l_1-eko parektaze guztiak egitea:\n",
    "    parekatzeak=min(x[0],x[2]); #d_1-en eta s_1 nodoetan parekatu daitezkeen elementu kopurua kalkulatu\n",
    "    x=list(np.array(x)-np.array([parekatzeak,0,parekatzeak,0]));#Parekatzeen ostean nodo bakoitzean zenbat elementu dauden\n",
    "    # 2.: l_2-ko parekatze guztiak egitea:\n",
    "    parekatzeak=min(x[1],x[3]); #d_2 eta s_2 nodoetan parekatu daitezkeen elementu kopurua kaltulatu\n",
    "    x=list(np.array(x)-np.array([0,parekatzeak,0,parekatzeak]));#Parekatzeen ostean nodo bakoitzean zenbat elementu dauden\n",
    "    # 3.: Ikusi ea l_3-koak parekatzea komenigarria den\n",
    "    if x[0] and x[3] >= t: #Ezarri dugun ataza baino elementu gehiago badaude d_1 eta s_2 nodoetan:\n",
    "        parekatzeak=min(x[0],x[3])-t; #Parekatu ahal diren guztiak d_1 eta s_2 nodetan t elementu geratu arte.\n",
    "        x=list(np.array(x)-np.array([parekatzeak,0,0,parekatzeak]));#Parekatzeen ostean nodo bakoitzean zenbat elementu dauden\n",
    "    return x #Parekatze guztiak egin ostean nodo bakoitzean geratzen den elementu kopurua bueltatzen du bektore batean.\n",
    "\n",
    "\n",
    "\n",
    "#OINARRIZKO FUNTZIOA\n",
    "#x:Hasieran nodo bakoitzean dagoen elementu kopurua. Bektore bat da.\n",
    "#t:Ezarri dugun ataza. Zenbaki bat da.\n",
    "#iritsierak:Random zenbakiez osatutako matrize bat da. \n",
    "def lotu(x,t,iritsierak):\n",
    "    baturak=[];\n",
    "    x_guztiak=[];\n",
    "    p=[0.7,0.3,0.6,0.4];# Elementuek nodo bakoitzera iristeko duten probabilitatea\n",
    "    a=len(iritsierak); #Zenbat iritsiera egongo diren.\n",
    "    for i in range (0,a+1):#Iritsiera bakoitzerako:\n",
    "        x=politika(x,t,iritsierak)# Politika funtzioak bueltatu digun azken x bektorea gordetzen du\n",
    "        x_guztiak.append(deepcopy(x))# Politika funtzioak bueltazen digun x bakoitza gordetzen du matrizen baten.\n",
    "        if i<a:\n",
    "            # Une bakoitzean iristen den elementua zein nodotara joango den erabaki\n",
    "            #Eskari nodoak:\n",
    "            if iritsierak[i][0]>p[0]:#i. random zenbakia d_1 nodora elementuek iristeko duten probabilitatea baino handiagoa (alpha1) bada:\n",
    "                x[1]=x[1]+1; #Orduan, elementu bat gehituko da d_2 nodoan.\n",
    "            else:\n",
    "                x[0]=x[0]+1;# Bestela, (alpha1 baino txikiagoa bada), elementua d_1 nodoan gehituko da.\n",
    "            #Hornidura nodoak:\n",
    "            if iritsierak[i][1]>p[2]:#i. random zenbakia elementuek s_1 nodora iristeko duten probabilitatea (beta1) baino handiagoa bada:\n",
    "                x[3]=x[3]+1; # Orduan, s_2 nodoan gehituko da elementua.\n",
    "            else:\n",
    "                x[2]=x[2]+1;#Bestela, s_1 nodorar iritsiko da elementua.\n",
    "    else:\n",
    "        # Grafikoa marraztuko dugu\n",
    "        for i in range(0,len(x_guztiak)):\n",
    "            baturak.append(sum(x_guztiak[i]))#n denbora une bakoitzeko elementu kopurua.          \n",
    "        # kostu akumulatua honela kalkulatzen da: kostua+(delta**i * baturak[i])\n",
    "        delta=0.999;\n",
    "        kostua=0;#Hasieran 0\n",
    "        kostu_lista=[];\n",
    "        for i in range (0,a+1):\n",
    "            kostua=kostua+(delta**i * baturak[i])\n",
    "            kostu_lista.append(kostua) #Kostu akumulatuen lista\n",
    "        return kostu_lista"
   ]
  },
  {
   "cell_type": "code",
   "execution_count": 3,
   "metadata": {
    "scrolled": true
   },
   "outputs": [
    {
     "data": {
      "text/plain": [
       "Text(0, 0.5, 'kostua')"
      ]
     },
     "execution_count": 3,
     "metadata": {},
     "output_type": "execute_result"
    },
    {
     "data": {
      "image/png": "[encoded data removed]",
      "text/plain": [
       "<Figure size 432x288 with 1 Axes>"
      ]
     },
     "metadata": {
      "needs_background": "light"
     },
     "output_type": "display_data"
    }
   ],
   "source": [
    "#LEHENENGO GRAFIKOA: ataza desberdinak ezarriz lortu ditugun kostu akumulatuek izan duten eboluzioa denboran zehar\n",
    "x=[0,0,0,0] #Hasierako egoera\n",
    "n=10000 #Zenbat denbora une egongo diren edo zenbat iritsiera egongo diren.\n",
    "iritsierak = np.random.random((n,2))#Random matrizea\n",
    "##Marraztu\n",
    "plot(lotu(x,0,iritsierak),'b',lotu(x,1,iritsierak),'y',lotu(x,2,iritsierak),'g',lotu(x,4,iritsierak),'r',lotu(x,8,iritsierak),'m')#,lotu(x,20,iritsierak),'c',lotu(x,80,iritsierak),'k')#,lotu(x,16,iritsierak),'.',lotu(x,17,iritsierak),'.')\n",
    "legend(('t=0', 't=1', 't=2','t=4','t=8','t=20','t=80'),prop = {'size':11}, loc='lower right')\n",
    "plt.xlabel('n denbora tartea', fontsize=14)\n",
    "plt.ylabel('kostua', fontsize=15)\n",
    "\n"
   ]
  },
  {
   "cell_type": "code",
   "execution_count": 4,
   "metadata": {},
   "outputs": [
    {
     "name": "stdout",
     "output_type": "stream",
     "text": [
      "3461.470811847971 2920.5819552275816 3234.426566049248 4087.890655003231 5272.941052653228 6662.5693144980505 8179.677170987261\n"
     ]
    },
    {
     "data": {
      "text/plain": [
       "Text(0, 0.5, 'kostua')"
      ]
     },
     "execution_count": 4,
     "metadata": {},
     "output_type": "execute_result"
    },
    {
     "data": {
      "image/png": "[encoded data removed]",
      "text/plain": [
       "<Figure size 432x288 with 1 Axes>"
      ]
     },
     "metadata": {
      "needs_background": "light"
     },
     "output_type": "display_data"
    }
   ],
   "source": [
    "#2.GRAFIKOA: amaieran lortu diren kostu akumulatuen batezbestekoak ataza desberdinetarako.\n",
    "x=[0,0,0,0] #Hasierako egoera\n",
    "n=20000 #Iritsiera kopurua\n",
    "lista_0=[];\n",
    "lista_1=[];\n",
    "lista_2=[];\n",
    "lista_4=[];\n",
    "lista_7=[];\n",
    "lista_10=[];\n",
    "lista_15=[];\n",
    "#lista_20=[];\n",
    "\n",
    "for i in range(0,50):\n",
    "    iritsierak = np.random.random((n,4))\n",
    "    lista_0.append(lotu(x,0,iritsierak))\n",
    "    lista_1.append(lotu(x,1,iritsierak))\n",
    "    lista_2.append(lotu(x,2,iritsierak))\n",
    "    lista_4.append(lotu(x,3,iritsierak))\n",
    "    lista_7.append(lotu(x,4,iritsierak))\n",
    "    lista_10.append(lotu(x,5,iritsierak))\n",
    "    lista_15.append(lotu(x,6,iritsierak))\n",
    "    #lista_20.append(lotu(x,12,iritsierak))\n",
    "\n",
    "#Ataza bakoitzarekin lortzen den kostu akumulatuen batezbestekoa bueltatzen du\n",
    "print(mean(lista_0),mean(lista_1),mean(lista_2),mean(lista_4),mean(lista_7),mean(lista_10),mean(lista_15))#,mean(lista_20))   \n",
    "\n",
    "#Marraztu\n",
    "x=[mean(lista_0),mean(lista_1),mean(lista_2),mean(lista_4),mean(lista_7),mean(lista_10),mean(lista_15)]#,mean(lista_20)]\n",
    "t=[0,1,2,3,4,5,6]#,12];\n",
    "plot(t,x,'.')\n",
    "plt.xlabel('ataza', fontsize=14)\n",
    "plt.ylabel('kostua', fontsize=15)"
   ]
  },
  {
   "cell_type": "code",
   "execution_count": null,
   "metadata": {},
   "outputs": [],
   "source": []
  },
  {
   "cell_type": "code",
   "execution_count": null,
   "metadata": {},
   "outputs": [],
   "source": [
    "\n"
   ]
  },
  {
   "cell_type": "code",
   "execution_count": null,
   "metadata": {},
   "outputs": [],
   "source": []
  }
 ],
 "metadata": {
  "kernelspec": {
   "display_name": "Python 3",
   "language": "python",
   "name": "python3"
  },
  "language_info": {
   "codemirror_mode": {
    "name": "ipython",
    "version": 3
   },
   "file_extension": ".py",
   "mimetype": "text/x-python",
   "name": "python",
   "nbconvert_exporter": "python",
   "pygments_lexer": "ipython3",
   "version": "3.8.5"
  }
 },
 "nbformat": 4,
 "nbformat_minor": 4
}
