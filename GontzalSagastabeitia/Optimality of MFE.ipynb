{
 "cells": [
  {
   "cell_type": "code",
   "execution_count": 1,
   "metadata": {},
   "outputs": [],
   "source": [
    "import sys\n",
    "import mfg_SIRC_functions as py\n",
    "\n",
    "import matplotlib.pyplot as plt\n",
    "import numpy as np"
   ]
  },
  {
   "cell_type": "code",
   "execution_count": 9,
   "metadata": {},
   "outputs": [],
   "source": [
    "gamma=0.95; rho=0.9; T=60; ci=500; C=2000"
   ]
  },
  {
   "cell_type": "code",
   "execution_count": null,
   "metadata": {},
   "outputs": [],
   "source": [
    "fig, axs = plt.subplots(1, 1)\n",
    "N=100\n",
    "data=np.zeros((N,N))\n",
    "for i in range(N):\n",
    "    for j in range(N-i):\n",
    "        if i/N<rho/gamma:\n",
    "            params = py.Parameters()\n",
    "            params.gamma=gamma\n",
    "            params.rho=rho\n",
    "            params.SIR0=(i/N,j/N,N-(i+j)/N)\n",
    "            params.T=T\n",
    "            params.ci=ci\n",
    "            cost_OPT = py.compute_OPT_cost(params)[0]\n",
    "            cost_MFE = py.compute_MFE_cost(params)[0]\n",
    "            data[i,j]=cost_MFE/cost_OPT if cost_OPT!=0 else 0 #cost_OPT=0 when Mi(0)=Ms(0)=0\n",
    "        else:\n",
    "            data[i,j]=0\n",
    "        \n",
    "        \n",
    "data[data == 0] = np.nan\n",
    "            \n",
    "img = plt.imshow(data, origin='lower', vmin=1, extent=[0,1,0,1])\n",
    "\n",
    "plt.xlabel(r'Proportion of infected $m_I(0)$')\n",
    "plt.ylabel(r'Proportion of susceptible $m_S(0)$')\n",
    "plt.subplots_adjust(bottom=0.1, right=0.8, top=0.9)\n",
    "cax = plt.axes([0.85, 0.1, 0.075, 0.8])\n",
    "plt.colorbar(cax=cax)"
   ]
  },
  {
   "cell_type": "code",
   "execution_count": null,
   "metadata": {},
   "outputs": [],
   "source": []
  }
 ],
 "metadata": {
  "kernelspec": {
   "display_name": "Python 3",
   "language": "python",
   "name": "python3"
  },
  "language_info": {
   "codemirror_mode": {
    "name": "ipython",
    "version": 3
   },
   "file_extension": ".py",
   "mimetype": "text/x-python",
   "name": "python",
   "nbconvert_exporter": "python",
   "pygments_lexer": "ipython3",
   "version": "3.8.10"
  }
 },
 "nbformat": 4,
 "nbformat_minor": 5
}
