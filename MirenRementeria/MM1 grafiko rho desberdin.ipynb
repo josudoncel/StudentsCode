{
 "cells": [
  {
   "cell_type": "code",
   "execution_count": 2,
   "id": "7c29eaa5",
   "metadata": {},
   "outputs": [
    {
     "data": {
      "image/png": "[encoded data removed]",
      "text/plain": [
       "<Figure size 432x288 with 1 Axes>"
      ]
     },
     "metadata": {
      "needs_background": "light"
     },
     "output_type": "display_data"
    }
   ],
   "source": [
    "import numpy as np\n",
    "import matplotlib.pyplot as plt\n",
    "import statistics\n",
    "\n",
    "\n",
    "def MM1_g(bezero_kopurua,iritsi_den,zer_den):\n",
    "    bezero_indizea=0\n",
    "    irteera_denbora=-1\n",
    "    soj=[]\n",
    "    itxaron_denbora=[]\n",
    "\n",
    "    while bezero_indizea<bezero_kopurua:\n",
    "        if iritsi_den[bezero_indizea]>irteera_denbora:  \n",
    "            itxaron_denbora.append(0)\n",
    "            soj.append(zer_den[bezero_indizea])\n",
    "            irteera_denbora=(soj[bezero_indizea]\n",
    "                             +iritsi_den[bezero_indizea])\n",
    "            bezero_indizea=bezero_indizea+1\n",
    "        \n",
    "        else:   #ilara ez dago libre \n",
    "            itxaron_denbora.append(irteera_denbora\n",
    "                                   -iritsi_den[bezero_indizea])\n",
    "            soj.append(zer_den[bezero_indizea]\n",
    "                       +itxaron_denbora[bezero_indizea])\n",
    "            irteera_denbora=(soj[bezero_indizea]\n",
    "                             +iritsi_den[bezero_indizea])\n",
    "            bezero_indizea=bezero_indizea+1\n",
    "\n",
    "\n",
    "    ES=statistics.mean(soj)\n",
    "    return ES\n",
    "\n",
    "indizea=[]\n",
    "ES=[]\n",
    "for i in range(5):\n",
    "    ES.append([])\n",
    "#bezeroen iritsiera denborak\n",
    "iritsi_den=[]\n",
    "n=0\n",
    "for i in [0.1,0.25,0.5,0.75,0.9]:\n",
    "    l=i\n",
    "    iritsi_den.append([])\n",
    "    ir_a_den=[]\n",
    "    for i in range(10**6):\n",
    "        ir_a_den.append(np.random.exponential(1/l))\n",
    "\n",
    "    for i in range(10**6):\n",
    "        if i==0:\n",
    "            iritsi_den[n].append(ir_a_den[0])\n",
    "        else:\n",
    "            iritsi_den[n].append(iritsi_den[n][i-1]\n",
    "                                 +ir_a_den[i])\n",
    "    n=n+1\n",
    "    \n",
    "mu=1\n",
    "#zerbitzu denbora\n",
    "zer_den=[]\n",
    "for i in range(10**6):\n",
    "    den=np.random.exponential(1/mu)\n",
    "    zer_den.append(den)\n",
    "\n",
    "for i in range(10,10**6,1000):\n",
    "    indizea.append(i)\n",
    "    ES[0].append(MM1_g(i,iritsi_den[0],zer_den))\n",
    "    ES[1].append(MM1_g(i,iritsi_den[1],zer_den))\n",
    "    ES[2].append(MM1_g(i,iritsi_den[2],zer_den))\n",
    "    ES[3].append(MM1_g(i,iritsi_den[3],zer_den))\n",
    "    ES[4].append(MM1_g(i,iritsi_den[4],zer_den))\n",
    "    \n",
    "plt.plot(indizea,ES[0],indizea,ES[1],\n",
    "         indizea,ES[2],indizea,ES[3],indizea,ES[4])\n",
    "plt.xlabel('Bezero kopurua')\n",
    "plt.ylabel('E[S]')\n",
    "plt.legend((\"Rho=0.1\",\"Rho=0.25\",\"Rho=0.5\",\n",
    "            \"Rho=0.75\",'Rho=0.9'),loc=\"lower right\")\n",
    "plt.savefig('MM1lamda_desberdinprueba.pdf')"
   ]
  },
  {
   "cell_type": "code",
   "execution_count": null,
   "id": "35252ed8",
   "metadata": {},
   "outputs": [],
   "source": []
  },
  {
   "cell_type": "code",
   "execution_count": null,
   "id": "cde0d334",
   "metadata": {},
   "outputs": [],
   "source": []
  }
 ],
 "metadata": {
  "kernelspec": {
   "display_name": "Python 3 (ipykernel)",
   "language": "python",
   "name": "python3"
  },
  "language_info": {
   "codemirror_mode": {
    "name": "ipython",
    "version": 3
   },
   "file_extension": ".py",
   "mimetype": "text/x-python",
   "name": "python",
   "nbconvert_exporter": "python",
   "pygments_lexer": "ipython3",
   "version": "3.9.12"
  }
 },
 "nbformat": 4,
 "nbformat_minor": 5
}
