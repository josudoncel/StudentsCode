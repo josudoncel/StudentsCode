{
 "cells": [
  {
   "cell_type": "code",
   "execution_count": 2,
   "id": "882b5447",
   "metadata": {},
   "outputs": [
    {
     "data": {
      "image/png": "[encoded data removed]",
      "text/plain": [
       "<Figure size 432x288 with 1 Axes>"
      ]
     },
     "metadata": {
      "needs_background": "light"
     },
     "output_type": "display_data"
    }
   ],
   "source": [
    "import numpy as np\n",
    "import matplotlib.pyplot as plt\n",
    "import statistics\n",
    "        \n",
    "def MM1_g(bezero_kopurua,lambda_,zer_den):\n",
    "    #bezeroen iritsiera denborak\n",
    "    ir_a_den=[]\n",
    "    for i in range(bezero_kopurua):\n",
    "        ir_a_den.append(\n",
    "            np.random.exponential(1/lambda_))\n",
    "\n",
    "    iritsi_den=[]\n",
    "    for i in range(bezero_kopurua):\n",
    "        if i==0:\n",
    "            iritsi_den.append(ir_a_den[0])\n",
    "        else:\n",
    "            iritsi_den.append(iritsi_den[i-1]\n",
    "                              +ir_a_den[i])\n",
    "   \n",
    "    bezero_indizea=0\n",
    "    irteera_denbora=-1\n",
    "    soj=[]\n",
    "    itxaron_denbora=[]\n",
    "\n",
    "    while bezero_indizea<bezero_kopurua:\n",
    "        if iritsi_den[bezero_indizea]>irteera_denbora:  #ilara libre dago  \n",
    "            itxaron_denbora.append(0)\n",
    "            soj.append(zer_den[bezero_indizea])\n",
    "            irteera_denbora=(soj[bezero_indizea]\n",
    "                             +iritsi_den[bezero_indizea])\n",
    "            bezero_indizea=bezero_indizea+1\n",
    "        \n",
    "        else:   #ilara ez dago libre \n",
    "            itxaron_denbora.append(irteera_denbora\n",
    "                                   -iritsi_den[bezero_indizea])\n",
    "            soj.append(zer_den[bezero_indizea]\n",
    "                       +itxaron_denbora[bezero_indizea])\n",
    "            irteera_denbora=(soj[bezero_indizea]\n",
    "                             +iritsi_den[bezero_indizea])\n",
    "            bezero_indizea=bezero_indizea+1\n",
    "\n",
    "\n",
    "    ES=statistics.mean(soj)\n",
    "    EL=lambda_*ES\n",
    "    EW=ES-1/mu\n",
    "    return ES\n",
    "\n",
    "indizea=[]\n",
    "ES=[]        \n",
    "mu=1\n",
    "#zerbitzu denbora\n",
    "zer_den=[]\n",
    "for i in range(10**6):\n",
    "    den=np.random.exponential(1/mu)\n",
    "    zer_den.append(den)\n",
    "\n",
    "\n",
    "for i in np.arange(0.05,1,0.05):\n",
    "    indizea.append(i)\n",
    "    ES.append(MM1_g(10**6,i,zer_den))\n",
    "    \n",
    "plt.plot(indizea,ES)\n",
    "plt.xlabel('Rho balioa')\n",
    "plt.ylabel('E[S]')\n",
    "plt.savefig('MM1lambda_aldatu.pdf')\n",
    "\n"
   ]
  },
  {
   "cell_type": "code",
   "execution_count": null,
   "id": "2edf4aea",
   "metadata": {},
   "outputs": [],
   "source": []
  }
 ],
 "metadata": {
  "kernelspec": {
   "display_name": "Python 3 (ipykernel)",
   "language": "python",
   "name": "python3"
  },
  "language_info": {
   "codemirror_mode": {
    "name": "ipython",
    "version": 3
   },
   "file_extension": ".py",
   "mimetype": "text/x-python",
   "name": "python",
   "nbconvert_exporter": "python",
   "pygments_lexer": "ipython3",
   "version": "3.9.12"
  }
 },
 "nbformat": 4,
 "nbformat_minor": 5
}
