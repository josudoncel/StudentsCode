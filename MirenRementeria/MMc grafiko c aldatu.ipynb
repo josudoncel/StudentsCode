{
 "cells": [
  {
   "cell_type": "code",
   "execution_count": 4,
   "id": "4f856e4d",
   "metadata": {},
   "outputs": [
    {
     "data": {
      "image/png": "[encoded data removed]",
      "text/plain": [
       "<Figure size 432x288 with 1 Axes>"
      ]
     },
     "metadata": {
      "needs_background": "light"
     },
     "output_type": "display_data"
    }
   ],
   "source": [
    "import numpy as np\n",
    "import matplotlib.pyplot as plt\n",
    "import statistics\n",
    "from math import factorial\n",
    "import scipy.stats as st\n",
    "\n",
    "def MMc_g(bezero_kopurua,lambda_,c,zer_den):\n",
    "    #bezeroen iritsiera denborak\n",
    "    ir_a_den=[]\n",
    "    for i in range(bezero_kopurua):\n",
    "        ir_a_den.append(\n",
    "            np.random.exponential(1/lambda_))\n",
    "\n",
    "    iritsi_den=[]\n",
    "    for i in range(bezero_kopurua):\n",
    "        if i==0:\n",
    "            iritsi_den.append(ir_a_den[i])\n",
    "        else:\n",
    "            iritsi_den.append(iritsi_den[i-1]\n",
    "                              +ir_a_den[i])\n",
    "\n",
    "\n",
    "    bezero_indizea=0\n",
    "    sojourn=0\n",
    "    irteera_denbora=[-1 for i in range(c)]\n",
    "    soj=[]\n",
    "    itxaron_denbora=[]\n",
    "\n",
    "\n",
    "    while bezero_indizea<bezero_kopurua:\n",
    "        zerbitzuan_sartu=False \n",
    "        for i in range(c): #ikusi ilara dagoen \n",
    "            if (iritsi_den[bezero_indizea]\n",
    "                >irteera_denbora[i]):\n",
    "                zerbitzuan_sartu=True \n",
    "                itxaron_denbora.append(0)\n",
    "                soj.append(zer_den[bezero_indizea])\n",
    "                irteera_denbora[i]=(\n",
    "                    iritsi_den[bezero_indizea]\n",
    "                                +soj[bezero_indizea])\n",
    "                break  \n",
    "        if not zerbitzuan_sartu: #ilara dago\n",
    "            zerbitzaria=np.argmin(irteera_denbora)\n",
    "            itxaron_denbora.append(\n",
    "                irteera_denbora[zerbitzaria]\n",
    "                            -iritsi_den[bezero_indizea])\n",
    "            soj.append(zer_den[bezero_indizea]\n",
    "                       +itxaron_denbora[bezero_indizea])\n",
    "            irteera_denbora[zerbitzaria]=(\n",
    "                iritsi_den[bezero_indizea]\n",
    "                                    +soj[bezero_indizea])\n",
    "        bezero_indizea+=1\n",
    "    \n",
    "    ES=statistics.mean(soj)\n",
    "\n",
    "   \n",
    "    return ES\n",
    "\n",
    "mu=1\n",
    "#zerbitzu denbora\n",
    "zer_den=[]\n",
    "for i in range(10**7):\n",
    "    den=np.random.exponential(1/mu)\n",
    "    zer_den.append(den)\n",
    "\n",
    "indizea=[]\n",
    "ES=[]\n",
    "\n",
    "for i in range(1,30):\n",
    "    indizea.append(i)\n",
    "    ES.append(MMc_g(10**7,0.7*i,i,zer_den))\n",
    "    \n",
    "plt.plot(indizea,ES)\n",
    "plt.xlabel('Zerbidore kopurua')\n",
    "plt.ylabel('E[S]' )\n",
    "plt.savefig('MMcc_aldatupruaba.pdf')"
   ]
  },
  {
   "cell_type": "code",
   "execution_count": null,
   "id": "6b53d406",
   "metadata": {},
   "outputs": [],
   "source": []
  }
 ],
 "metadata": {
  "kernelspec": {
   "display_name": "Python 3 (ipykernel)",
   "language": "python",
   "name": "python3"
  },
  "language_info": {
   "codemirror_mode": {
    "name": "ipython",
    "version": 3
   },
   "file_extension": ".py",
   "mimetype": "text/x-python",
   "name": "python",
   "nbconvert_exporter": "python",
   "pygments_lexer": "ipython3",
   "version": "3.9.12"
  }
 },
 "nbformat": 4,
 "nbformat_minor": 5
}
