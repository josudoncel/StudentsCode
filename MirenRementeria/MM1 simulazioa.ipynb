{
 "cells": [
  {
   "cell_type": "code",
   "execution_count": 7,
   "id": "21ae302e",
   "metadata": {},
   "outputs": [
    {
     "name": "stdout",
     "output_type": "stream",
     "text": [
      "Teorian\n",
      "ES= 2.0\n",
      "EL= 3.0\n",
      "EW= 1.5\n",
      "Simulazioan lortutakoa\n",
      "ES= 2.0140098323112805\n",
      "EL= 3.0210147484669205\n",
      "EW= 1.5140098323112805\n"
     ]
    }
   ],
   "source": [
    "import numpy as np\n",
    "import statistics\n",
    "def MM1(bezero_kopurua,lambda_,mu):\n",
    "    #bezeroen iritsiera denborak\n",
    "    ir_a_den=[]\n",
    "    for i in range(bezero_kopurua):\n",
    "        ir_a_den.append(\n",
    "            np.random.exponential(1/lambda_))\n",
    "    iritsi_den=[]\n",
    "    for i in range(bezero_kopurua):\n",
    "        if i==0:\n",
    "            iritsi_den.append(ir_a_den[0])\n",
    "        else:\n",
    "            iritsi_den.append(\n",
    "                iritsi_den[i-1]+ir_a_den[i])\n",
    "    #zerbitzu denbora\n",
    "    zer_den=[]\n",
    "    for i in range(bezero_kopurua):\n",
    "        den=np.random.exponential(1/mu)\n",
    "        zer_den.append(den)\n",
    "    bezero_indizea=0\n",
    "    irteera_denbora=-1\n",
    "    soj=[]\n",
    "    itxaron_denbora=[]\n",
    "    while bezero_indizea<bezero_kopurua:\n",
    "        if iritsi_den[bezero_indizea]>irteera_denbora:  \n",
    "            itxaron_denbora.append(0)\n",
    "            soj.append(zer_den[bezero_indizea])\n",
    "            irteera_denbora=(soj[bezero_indizea]\n",
    "                            +iritsi_den[bezero_indizea])\n",
    "            bezero_indizea=bezero_indizea+1       \n",
    "        else:   \n",
    "            itxaron_denbora.append(irteera_denbora\n",
    "                            -iritsi_den[bezero_indizea])\n",
    "            soj.append(zer_den[bezero_indizea]\n",
    "                       +itxaron_denbora[bezero_indizea])\n",
    "            irteera_denbora=(soj[bezero_indizea]\n",
    "                        + iritsi_den[bezero_indizea])\n",
    "            bezero_indizea=bezero_indizea+1\n",
    "    rho=lambda_/mu\n",
    "    ES=statistics.mean(soj)\n",
    "    EL=lambda_*ES\n",
    "    EW=ES-1/mu\n",
    "    print(\"Teorian\")\n",
    "    print(\"ES=\",(1/mu)/(1-rho))\n",
    "    print(\"EL=\",rho/(1-rho))\n",
    "    print(\"EW=\",(rho/mu)/(1-rho))\n",
    "    print(\"Simulazioan lortutakoa\")\n",
    "    print(\"ES=\",ES)\n",
    "    print(\"EL=\",EL)\n",
    "    print(\"EW=\",EW)\n",
    "MM1(10**7,1.5,2)\n"
   ]
  },
  {
   "cell_type": "code",
   "execution_count": null,
   "id": "b75e05bc",
   "metadata": {},
   "outputs": [],
   "source": []
  },
  {
   "cell_type": "code",
   "execution_count": null,
   "id": "ffb49700",
   "metadata": {},
   "outputs": [],
   "source": []
  }
 ],
 "metadata": {
  "kernelspec": {
   "display_name": "Python 3 (ipykernel)",
   "language": "python",
   "name": "python3"
  },
  "language_info": {
   "codemirror_mode": {
    "name": "ipython",
    "version": 3
   },
   "file_extension": ".py",
   "mimetype": "text/x-python",
   "name": "python",
   "nbconvert_exporter": "python",
   "pygments_lexer": "ipython3",
   "version": "3.9.12"
  }
 },
 "nbformat": 4,
 "nbformat_minor": 5
}
